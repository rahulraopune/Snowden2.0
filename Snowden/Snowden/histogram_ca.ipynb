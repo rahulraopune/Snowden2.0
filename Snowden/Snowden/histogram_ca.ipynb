{
 "cells": [
  {
   "cell_type": "code",
   "execution_count": 164,
   "metadata": {},
   "outputs": [],
   "source": [
    "import json\n",
    "import numpy as np\n",
    "import matplotlib.mlab as mlab\n",
    "import matplotlib.pyplot as plt\n",
    "\n",
    "f = open('data.json','r')\n",
    "json_data = json.load(f)\n",
    "#print(json_data)"
   ]
  },
  {
   "cell_type": "code",
   "execution_count": 165,
   "metadata": {},
   "outputs": [
    {
     "data": {
      "text/plain": [
       "'Do you agree with the Derek Chauvin   guilty verdict   announced on April 20, 2021. . . ?'"
      ]
     },
     "execution_count": 165,
     "metadata": {},
     "output_type": "execute_result"
    }
   ],
   "source": [
    "json_data[1]['topic']"
   ]
  },
  {
   "cell_type": "code",
   "execution_count": 166,
   "metadata": {},
   "outputs": [
    {
     "name": "stdout",
     "output_type": "stream",
     "text": [
      "Kirk will always be better than Picard!\n",
      "Do you agree with the Derek Chauvin   guilty verdict   announced on April 20, 2021. . . ?\n",
      "Is LGBTQ+ wrong?\n",
      "We should Institute a death penalty for homophiles and transexualists.\n",
      "Do you agree with the Black Lives Matter Movement?\n",
      "no of topics: 5\n"
     ]
    }
   ],
   "source": [
    "#number of topics\n",
    "num_topics = len(json_data)\n",
    "#list to get the topics\n",
    "topics = []\n",
    "for topic in range(0,num_topics):\n",
    "    topics.append(json_data[topic]['topic'])\n",
    "    print(json_data[topic]['topic'])\n",
    "    \n",
    "print(\"no of topics: {}\".format(len(topics)))"
   ]
  },
  {
   "cell_type": "code",
   "execution_count": 167,
   "metadata": {},
   "outputs": [
    {
     "name": "stdout",
     "output_type": "stream",
     "text": [
      "topic hist obj created\n",
      "Kirk will always be better than Picard!\n",
      "816\n",
      "topic hist obj created\n",
      "Do you agree with the Derek Chauvin   guilty verdict   announced on April 20, 2021. . . ?\n",
      "6\n",
      "topic hist obj created\n",
      "Is LGBTQ+ wrong?\n",
      "36\n",
      "topic hist obj created\n",
      "We should Institute a death penalty for homophiles and transexualists.\n",
      "57\n",
      "topic hist obj created\n",
      "Do you agree with the Black Lives Matter Movement?\n",
      "87\n"
     ]
    },
    {
     "data": {
      "text/plain": [
       "5"
      ]
     },
     "execution_count": 167,
     "metadata": {},
     "output_type": "execute_result"
    }
   ],
   "source": [
    "class my_dictionary(dict): \n",
    "   \n",
    "    def __init__(self): \n",
    "        self = dict() \n",
    "          \n",
    "    # Function to add key-value pair \n",
    "    def add(self, key, value): \n",
    "        self[key] = value\n",
    "\n",
    "dict_obj_topic_list = []\n",
    "\n",
    "for topic in range(0,num_topics):\n",
    "    num_args = len(json_data[topic]['pro_arguments']) + len(json_data[topic]['con_arguments'])\n",
    "    hist_dict_obj_topic = my_dictionary()\n",
    "    print(\"topic hist obj created\")\n",
    "    \n",
    "    hist_dict_obj_topic.key = json_data[topic]['topic']\n",
    "    print(hist_dict_obj_topic.key)\n",
    "    \n",
    "    hist_dict_obj_topic.value = len(json_data[topic]['pro_arguments']) + len(json_data[topic]['con_arguments'])\n",
    "    print(hist_dict_obj_topic.value)        \n",
    "    \n",
    "    dict_obj_topic_list.append(hist_dict_obj_topic)\n",
    "    \n",
    "    \n",
    "len(dict_obj_topic_list)"
   ]
  },
  {
   "cell_type": "code",
   "execution_count": 168,
   "metadata": {},
   "outputs": [
    {
     "data": {
      "image/png": "[encoded data removed]",
      "text/plain": [
       "<Figure size 432x288 with 1 Axes>"
      ]
     },
     "metadata": {
      "needs_background": "light"
     },
     "output_type": "display_data"
    }
   ],
   "source": [
    "#for i in dict_obj_list:\n",
    "    #x.append(i.value)\n",
    "    \n",
    "#num_bins = num_topics\n",
    "#n, bins, patches = plt.hist(x, num_bins, facecolor='blue', alpha=1)\n",
    "#plt.show()"
   ]
  },
  {
   "cell_type": "code",
   "execution_count": 169,
   "metadata": {},
   "outputs": [
    {
     "data": {
      "text/plain": [
       "'TV'"
      ]
     },
     "execution_count": 169,
     "metadata": {},
     "output_type": "execute_result"
    }
   ],
   "source": [
    "json_data[0]['category']"
   ]
  },
  {
   "cell_type": "code",
   "execution_count": 170,
   "metadata": {},
   "outputs": [
    {
     "name": "stdout",
     "output_type": "stream",
     "text": [
      "category hist obj created\n",
      "TV\n",
      "816\n",
      "category hist obj created\n",
      "Politics\n",
      "6\n",
      "category hist obj created\n",
      "Society\n",
      "36\n",
      "TV 816\n",
      "Politics 63\n",
      "Society 123\n"
     ]
    }
   ],
   "source": [
    "dict_obj_category_list = []\n",
    "category_list_unique = []\n",
    "\n",
    "for i in range(0, num_topics):\n",
    "    # Get unique category in JSON data\n",
    "    if json_data[i]['category'] not in category_list_unique:\n",
    "        \n",
    "        hist_dict_obj_category = my_dictionary()\n",
    "        print(\"category hist obj created\")\n",
    "        \n",
    "        hist_dict_obj_category.key = json_data[i]['category']\n",
    "        print(hist_dict_obj_category.key)\n",
    "        \n",
    "        hist_dict_obj_category.value = len(json_data[i]['pro_arguments']) + len(json_data[i]['con_arguments'])\n",
    "        print(hist_dict_obj_category.value)\n",
    "        \n",
    "        category_list_unique.append(hist_dict_obj_category.key)\n",
    "        dict_obj_category_list.append(hist_dict_obj_category)\n",
    "    \n",
    "    else:\n",
    "        \n",
    "        for obj in dict_obj_category_list:\n",
    "            if json_data[i]['category'] == obj.key:\n",
    "                obj.value = obj.value +  len(json_data[i]['pro_arguments']) + len(json_data[i]['con_arguments'])\n",
    "                \n",
    "\n",
    "for obj in dict_obj_category_list:\n",
    "    print(obj.key, obj.value)\n",
    "        "
   ]
  },
  {
   "cell_type": "code",
   "execution_count": 154,
   "metadata": {},
   "outputs": [
    {
     "data": {
      "text/plain": [
       "'a'"
      ]
     },
     "execution_count": 154,
     "metadata": {},
     "output_type": "execute_result"
    }
   ],
   "source": [
    "json_data[2]['category']"
   ]
  },
  {
   "cell_type": "code",
   "execution_count": null,
   "metadata": {},
   "outputs": [],
   "source": []
  }
 ],
 "metadata": {
  "kernelspec": {
   "display_name": "Python 3",
   "language": "python",
   "name": "python3"
  },
  "language_info": {
   "codemirror_mode": {
    "name": "ipython",
    "version": 3
   },
   "file_extension": ".py",
   "mimetype": "text/x-python",
   "name": "python",
   "nbconvert_exporter": "python",
   "pygments_lexer": "ipython3",
   "version": "3.7.6"
  }
 },
 "nbformat": 4,
 "nbformat_minor": 4
}
