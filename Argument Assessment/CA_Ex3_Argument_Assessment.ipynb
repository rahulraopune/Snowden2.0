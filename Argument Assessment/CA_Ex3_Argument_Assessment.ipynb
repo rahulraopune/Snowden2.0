{
  "nbformat": 4,
  "nbformat_minor": 0,
  "metadata": {
    "colab": {
      "name": "CA_Ex3_Argument_Assessment.ipynb",
      "provenance": []
    },
    "kernelspec": {
      "name": "python37364bit45a760422be94c8b9d8a395a722e388c",
      "display_name": "Python 3.7.3 64-bit"
    },
    "language_info": {
      "name": "python",
      "version": "3.7.3"
    },
    "metadata": {
      "interpreter": {
        "hash": "31f2aee4e71d21fbe5cf8b01ff0e069b9275f58929596ceb00d14d90e3e16cd6"
      }
    }
  },
  "cells": [
    {
      "cell_type": "code",
      "execution_count": 51,
      "metadata": {},
      "outputs": [
        {
          "output_type": "stream",
          "name": "stderr",
          "text": [
            "[nltk_data] Downloading package wordnet to /Users/rahul/nltk_data...\n[nltk_data]   Package wordnet is already up-to-date!\n[nltk_data] Downloading package stopwords to /Users/rahul/nltk_data...\n[nltk_data]   Package stopwords is already up-to-date!\n"
          ]
        }
      ],
      "source": [
        "import pandas as pd\n",
        "import re\n",
        "import spacy\n",
        "import nltk\n",
        "import ssl\n",
        "from sklearn.linear_model import Perceptron\n",
        "from sklearn.feature_extraction.text import TfidfVectorizer\n",
        "from sklearn.model_selection import RepeatedStratifiedKFold\n",
        "from sklearn.model_selection import cross_val_score\n",
        "from sklearn.metrics import f1_score, make_scorer\n",
        "from sklearn.preprocessing import normalize\n",
        "\n",
        "nlp = spacy.load('en_core_web_sm')\n",
        "ssl._create_default_https_context = ssl._create_unverified_context\n",
        "nltk.download('wordnet')\n",
        "nltk.download('stopwords')\n",
        "lst_stopwords = nltk.corpus.stopwords.words(\"english\")"
      ]
    },
    {
      "cell_type": "code",
      "execution_count": 62,
      "metadata": {},
      "outputs": [],
      "source": [
        "def utils_preprocess_text(text, flg_stemm=False, flg_lemm=True, lst_stopwords=None):\n",
        "    ## clean (convert to lowercase and remove punctuations and characters and then strip)\n",
        "    text = re.sub(r'[^\\w\\s]', '', str(text).lower().strip())\n",
        "            \n",
        "    ## Tokenize (convert from string to list)\n",
        "    lst_text = text.split()\n",
        "    ## remove Stopwords\n",
        "    if lst_stopwords is not None:\n",
        "        lst_text = [word for word in lst_text if word not in \n",
        "                    lst_stopwords]\n",
        "                \n",
        "    ## Stemming (remove -ing, -ly, ...)\n",
        "    if flg_stemm == True:\n",
        "        ps = nltk.stem.porter.PorterStemmer()\n",
        "        lst_text = [ps.stem(word) for word in lst_text]\n",
        "                \n",
        "    ## Lemmatisation (convert the word into root word)\n",
        "    if flg_lemm == True:\n",
        "        lem = nltk.stem.wordnet.WordNetLemmatizer()\n",
        "        lst_text = [lem.lemmatize(word) for word in lst_text]\n",
        "            \n",
        "    ## back to string from list\n",
        "    text = \" \".join(lst_text)\n",
        "    return text"
      ]
    },
    {
      "cell_type": "code",
      "execution_count": 63,
      "metadata": {
        "tags": []
      },
      "outputs": [],
      "source": [
        "def fetch_all_neg_words():\n",
        "    list_neg_words = []\n",
        "    with open(\"neg_key_words.txt\",\"r\") as file:\n",
        "        for line in file:\n",
        "            list_neg_words.append(line.strip())\n",
        "    return list_neg_words"
      ]
    },
    {
      "cell_type": "code",
      "metadata": {
        "id": "J_5resnXCiG4"
      },
      "source": [
        "#Used to read training data\n",
        "def read_data(filename):\n",
        "    train_df = pd.read_json(filename)\n",
        "    y_train = train_df['label']\n",
        "    body_train = []\n",
        "    contro_list = []\n",
        "    ups_list = []\n",
        "    viol_list = []\n",
        "    main_list = []\n",
        "    for i in range(0, 2):#len(train_df)):\n",
        "        id = train_df['id'][i]\n",
        "        size_of_posts_per_thread = len(train_df['preceding_posts'][i])\n",
        "        # print(size_of_posts_per_thread)\n",
        "        post_text = []\n",
        "        sum_contro = 0\n",
        "        sum_ups = 0\n",
        "        sum_viol = 0\n",
        "        for j in range(0, size_of_posts_per_thread): \n",
        "            text_body = train_df['preceding_posts'][i][j]['body']\n",
        "            sum_contro += train_df['preceding_posts'][i][j]['controversiality']\n",
        "            sum_ups += train_df['preceding_posts'][i][j]['ups']\n",
        "            sum_viol += train_df['preceding_posts'][i][j]['violated_rule']\n",
        "            post_text.append(text_body)\n",
        "        body_text = ' '.join(post_text)\n",
        "        preprocessed_body_text = utils_preprocess_text(body_text,lst_stopwords=lst_stopwords)\n",
        "        doc = nlp(preprocessed_body_text)\n",
        "        main_list.append({\n",
        "            \"id\":id,\n",
        "            \"body\":preprocessed_body_text, \n",
        "            \"controversiality\":sum_contro, \n",
        "            \"ups\":sum_ups, \n",
        "            \"violated_rule\":sum_viol,\n",
        "            \"vector\":doc.vector\n",
        "        })\n",
        "    X_df = pd.DataFrame(main_list)\n",
        "    return X_df, y_train"
      ],
      "execution_count": 64,
      "outputs": []
    },
    {
      "cell_type": "code",
      "metadata": {
        "colab": {
          "base_uri": "https://localhost:8080/",
          "height": 409
        },
        "id": "sjPjlSCX9IAa",
        "outputId": "00bc26f6-e8e4-477c-975f-39fe1103db2e"
      },
      "source": [
        "x_train, y_train = read_data(\"train-data-prepared.json\")\n",
        "x_val, y_val = read_data(\"val-data-prepared.json\")"
      ],
      "execution_count": 53,
      "outputs": []
    },
    {
      "cell_type": "code",
      "execution_count": 54,
      "metadata": {},
      "outputs": [
        {
          "output_type": "execute_result",
          "data": {
            "text/plain": [
              "           id                                               body  \\\n",
              "0  t1_dggp3q9  right woman nonsexual creature would never use...   \n",
              "1  t1_dk3zd9h  making prostitution legal make much difficult ...   \n",
              "\n",
              "   controversiality  ups  violated_rule  \\\n",
              "0                 0    1              0   \n",
              "1                 0   11              0   \n",
              "\n",
              "                                              vector  \n",
              "0  [0.6291083, 0.0771986, 0.19754855, -0.05052166...  \n",
              "1  [0.45894313, -0.06847714, 0.2195477, -0.068728...  "
            ],
            "text/html": "<div>\n<style scoped>\n    .dataframe tbody tr th:only-of-type {\n        vertical-align: middle;\n    }\n\n    .dataframe tbody tr th {\n        vertical-align: top;\n    }\n\n    .dataframe thead th {\n        text-align: right;\n    }\n</style>\n<table border=\"1\" class=\"dataframe\">\n  <thead>\n    <tr style=\"text-align: right;\">\n      <th></th>\n      <th>id</th>\n      <th>body</th>\n      <th>controversiality</th>\n      <th>ups</th>\n      <th>violated_rule</th>\n      <th>vector</th>\n    </tr>\n  </thead>\n  <tbody>\n    <tr>\n      <th>0</th>\n      <td>t1_dggp3q9</td>\n      <td>right woman nonsexual creature would never use...</td>\n      <td>0</td>\n      <td>1</td>\n      <td>0</td>\n      <td>[0.6291083, 0.0771986, 0.19754855, -0.05052166...</td>\n    </tr>\n    <tr>\n      <th>1</th>\n      <td>t1_dk3zd9h</td>\n      <td>making prostitution legal make much difficult ...</td>\n      <td>0</td>\n      <td>11</td>\n      <td>0</td>\n      <td>[0.45894313, -0.06847714, 0.2195477, -0.068728...</td>\n    </tr>\n  </tbody>\n</table>\n</div>"
          },
          "metadata": {},
          "execution_count": 54
        }
      ],
      "source": [
        "x_train"
      ]
    },
    {
      "cell_type": "code",
      "metadata": {
        "colab": {
          "base_uri": "https://localhost:8080/"
        },
        "id": "u_iDNhfpMmem",
        "outputId": "effb1b89-ad3e-4ed3-eeab-840ab9813723"
      },
      "source": [
        "y_train"
      ],
      "execution_count": 14,
      "outputs": [
        {
          "output_type": "execute_result",
          "data": {
            "text/plain": [
              "0       1\n",
              "1       0\n",
              "2       1\n",
              "3       0\n",
              "4       1\n",
              "       ..\n",
              "1931    0\n",
              "1932    1\n",
              "1933    0\n",
              "1934    1\n",
              "1935    0\n",
              "Name: label, Length: 1936, dtype: int64"
            ]
          },
          "metadata": {
            "tags": []
          },
          "execution_count": 14
        }
      ]
    },
    {
      "cell_type": "code",
      "metadata": {
        "colab": {
          "base_uri": "https://localhost:8080/",
          "height": 419
        },
        "id": "s722lvyD94ZT",
        "outputId": "cf2f756e-83c2-47db-f1d9-3f47d8bccc52"
      },
      "source": [
        "val_df = read_val_data()\n",
        "val_df"
      ],
      "execution_count": 3,
      "outputs": [
        {
          "output_type": "execute_result",
          "data": {
            "text/html": [
              "<div>\n",
              "<style scoped>\n",
              "    .dataframe tbody tr th:only-of-type {\n",
              "        vertical-align: middle;\n",
              "    }\n",
              "\n",
              "    .dataframe tbody tr th {\n",
              "        vertical-align: top;\n",
              "    }\n",
              "\n",
              "    .dataframe thead th {\n",
              "        text-align: right;\n",
              "    }\n",
              "</style>\n",
              "<table border=\"1\" class=\"dataframe\">\n",
              "  <thead>\n",
              "    <tr style=\"text-align: right;\">\n",
              "      <th></th>\n",
              "      <th>id</th>\n",
              "      <th>preceding_posts</th>\n",
              "      <th>final_post</th>\n",
              "      <th>label</th>\n",
              "    </tr>\n",
              "  </thead>\n",
              "  <tbody>\n",
              "    <tr>\n",
              "      <th>0</th>\n",
              "      <td>t1_dipwvtv</td>\n",
              "      <td>[{'archived': False, 'author_name': 'mattman11...</td>\n",
              "      <td>{'archived': False, 'author_name': 'Blood_and_...</td>\n",
              "      <td>1</td>\n",
              "    </tr>\n",
              "    <tr>\n",
              "      <th>1</th>\n",
              "      <td>t1_dctegi4</td>\n",
              "      <td>[{'archived': True, 'author_name': 'betweentwo...</td>\n",
              "      <td>{'archived': True, 'author_name': 'betweentwol...</td>\n",
              "      <td>0</td>\n",
              "    </tr>\n",
              "    <tr>\n",
              "      <th>2</th>\n",
              "      <td>t1_d4vri90</td>\n",
              "      <td>[{'archived': True, 'author_name': 'Sheexthro'...</td>\n",
              "      <td>{'archived': True, 'author_name': 'amus', 'bod...</td>\n",
              "      <td>1</td>\n",
              "    </tr>\n",
              "    <tr>\n",
              "      <th>3</th>\n",
              "      <td>t1_d2v90lz</td>\n",
              "      <td>[{'archived': True, 'author_name': 'cdb03b', '...</td>\n",
              "      <td>{'archived': True, 'author_name': 'cdb03b', 'b...</td>\n",
              "      <td>0</td>\n",
              "    </tr>\n",
              "    <tr>\n",
              "      <th>4</th>\n",
              "      <td>t1_dd1k4g6</td>\n",
              "      <td>[{'archived': True, 'author_name': 'Leumashy',...</td>\n",
              "      <td>{'archived': True, 'author_name': 'Redwing4114...</td>\n",
              "      <td>1</td>\n",
              "    </tr>\n",
              "    <tr>\n",
              "      <th>...</th>\n",
              "      <td>...</td>\n",
              "      <td>...</td>\n",
              "      <td>...</td>\n",
              "      <td>...</td>\n",
              "    </tr>\n",
              "    <tr>\n",
              "      <th>253</th>\n",
              "      <td>t1_cgmqm3y</td>\n",
              "      <td>[{'archived': True, 'author_name': 'telegraphi...</td>\n",
              "      <td>{'archived': True, 'author_name': 'telegraphis...</td>\n",
              "      <td>0</td>\n",
              "    </tr>\n",
              "    <tr>\n",
              "      <th>254</th>\n",
              "      <td>t1_cvoj5re</td>\n",
              "      <td>[{'archived': True, 'author_name': 'gtfooh1011...</td>\n",
              "      <td>{'archived': True, 'author_name': 'Osricthebas...</td>\n",
              "      <td>1</td>\n",
              "    </tr>\n",
              "    <tr>\n",
              "      <th>255</th>\n",
              "      <td>t1_cpcigu7</td>\n",
              "      <td>[{'archived': True, 'author_name': 'Ananasboat...</td>\n",
              "      <td>{'archived': True, 'author_name': 'Ananasboat'...</td>\n",
              "      <td>0</td>\n",
              "    </tr>\n",
              "    <tr>\n",
              "      <th>256</th>\n",
              "      <td>t1_cnu1fi5</td>\n",
              "      <td>[{'archived': True, 'author_name': 'Lagkiller'...</td>\n",
              "      <td>{'archived': True, 'author_name': 'anonoman925...</td>\n",
              "      <td>1</td>\n",
              "    </tr>\n",
              "    <tr>\n",
              "      <th>257</th>\n",
              "      <td>t1_dhdub9z</td>\n",
              "      <td>[{'archived': False, 'author_name': 'This_The_...</td>\n",
              "      <td>{'archived': False, 'author_name': 'This_The_L...</td>\n",
              "      <td>0</td>\n",
              "    </tr>\n",
              "  </tbody>\n",
              "</table>\n",
              "<p>258 rows × 4 columns</p>\n",
              "</div>"
            ],
            "text/plain": [
              "             id  ... label\n",
              "0    t1_dipwvtv  ...     1\n",
              "1    t1_dctegi4  ...     0\n",
              "2    t1_d4vri90  ...     1\n",
              "3    t1_d2v90lz  ...     0\n",
              "4    t1_dd1k4g6  ...     1\n",
              "..          ...  ...   ...\n",
              "253  t1_cgmqm3y  ...     0\n",
              "254  t1_cvoj5re  ...     1\n",
              "255  t1_cpcigu7  ...     0\n",
              "256  t1_cnu1fi5  ...     1\n",
              "257  t1_dhdub9z  ...     0\n",
              "\n",
              "[258 rows x 4 columns]"
            ]
          },
          "metadata": {
            "tags": []
          },
          "execution_count": 3
        }
      ]
    },
    {
      "cell_type": "code",
      "metadata": {
        "colab": {
          "base_uri": "https://localhost:8080/"
        },
        "id": "OVEwgpen_2VZ",
        "outputId": "1fa55148-a168-4298-819e-08b0250152f9"
      },
      "source": [
        "preprocess_train_data(train_df)"
      ],
      "execution_count": 4,
      "outputs": [
        {
          "output_type": "stream",
          "text": [
            "              id  label\n",
            "0     t1_dggp3q9      1\n",
            "1     t1_dk3zd9h      0\n",
            "2     t1_d86bsqs      1\n",
            "3     t1_cpzy2ya      0\n",
            "4     t1_d92nfmh      1\n",
            "...          ...    ...\n",
            "1931  t1_cpet2nu      0\n",
            "1932  t1_ck91k4x      1\n",
            "1933  t1_ch7503g      0\n",
            "1934  t1_denmvjy      1\n",
            "1935  t1_crtmi2e      0\n",
            "\n",
            "[1936 rows x 2 columns]\n",
            "1936\n"
          ],
          "name": "stdout"
        }
      ]
    }
  ]
}