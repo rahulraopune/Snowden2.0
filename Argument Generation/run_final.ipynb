{
 "cells": [
  {
   "cell_type": "markdown",
   "source": [
    "# Imports and common methods"
   ],
   "metadata": {}
  },
  {
   "cell_type": "code",
   "execution_count": 1,
   "source": [
    "# Installing and Importing sumy\n",
    "# Comment the below line after running it once\n",
    "!pip install sumy \n",
    "import sumy"
   ],
   "outputs": [
    {
     "output_type": "stream",
     "name": "stdout",
     "text": [
      "Requirement already satisfied: sumy in c:\\users\\shivam sharma\\appdata\\local\\programs\\python\\python38\\lib\\site-packages (0.8.1)\n",
      "Requirement already satisfied: docopt<0.7,>=0.6.1 in c:\\users\\shivam sharma\\appdata\\local\\programs\\python\\python38\\lib\\site-packages (from sumy) (0.6.2)\n",
      "Requirement already satisfied: breadability>=0.1.20 in c:\\users\\shivam sharma\\appdata\\local\\programs\\python\\python38\\lib\\site-packages (from sumy) (0.1.20)\n",
      "Requirement already satisfied: nltk>=3.0.2 in c:\\users\\shivam sharma\\appdata\\local\\programs\\python\\python38\\lib\\site-packages (from sumy) (3.6.2)\n",
      "Requirement already satisfied: pycountry>=18.2.23 in c:\\users\\shivam sharma\\appdata\\local\\programs\\python\\python38\\lib\\site-packages (from sumy) (20.7.3)\n",
      "Requirement already satisfied: requests>=2.7.0 in c:\\users\\shivam sharma\\appdata\\local\\programs\\python\\python38\\lib\\site-packages (from sumy) (2.25.1)\n",
      "Requirement already satisfied: chardet in c:\\users\\shivam sharma\\appdata\\local\\programs\\python\\python38\\lib\\site-packages (from breadability>=0.1.20->sumy) (4.0.0)\n",
      "Requirement already satisfied: lxml>=2.0 in c:\\users\\shivam sharma\\appdata\\local\\programs\\python\\python38\\lib\\site-packages (from breadability>=0.1.20->sumy) (4.6.2)\n",
      "Requirement already satisfied: regex in c:\\users\\shivam sharma\\appdata\\local\\programs\\python\\python38\\lib\\site-packages (from nltk>=3.0.2->sumy) (2020.5.14)\n",
      "Requirement already satisfied: click in c:\\users\\shivam sharma\\appdata\\local\\programs\\python\\python38\\lib\\site-packages (from nltk>=3.0.2->sumy) (7.1.2)\n",
      "Requirement already satisfied: tqdm in c:\\users\\shivam sharma\\appdata\\local\\programs\\python\\python38\\lib\\site-packages (from nltk>=3.0.2->sumy) (4.60.0)\n",
      "Requirement already satisfied: joblib in c:\\users\\shivam sharma\\appdata\\local\\programs\\python\\python38\\lib\\site-packages (from nltk>=3.0.2->sumy) (0.17.0)\n",
      "Requirement already satisfied: certifi>=2017.4.17 in c:\\users\\shivam sharma\\appdata\\local\\programs\\python\\python38\\lib\\site-packages (from requests>=2.7.0->sumy) (2021.5.30)\n",
      "Requirement already satisfied: idna<3,>=2.5 in c:\\users\\shivam sharma\\appdata\\local\\programs\\python\\python38\\lib\\site-packages (from requests>=2.7.0->sumy) (2.10)\n",
      "Requirement already satisfied: urllib3<1.27,>=1.21.1 in c:\\users\\shivam sharma\\appdata\\local\\programs\\python\\python38\\lib\\site-packages (from requests>=2.7.0->sumy) (1.26.6)\n"
     ]
    },
    {
     "output_type": "stream",
     "name": "stderr",
     "text": [
      "WARNING: You are using pip version 21.1.1; however, version 21.1.3 is available.\n",
      "You should consider upgrading via the 'c:\\users\\shivam sharma\\appdata\\local\\programs\\python\\python38\\python.exe -m pip install --upgrade pip' command.\n"
     ]
    }
   ],
   "metadata": {}
  },
  {
   "cell_type": "code",
   "execution_count": 2,
   "source": [
    "import pandas as pd\n",
    "from tqdm import tqdm\n",
    "import json\n",
    "\n",
    "# Importing the parser and tokenizer\n",
    "from sumy.parsers.plaintext import PlaintextParser\n",
    "from sumy.nlp.tokenizers import Tokenizer\n",
    "\n",
    "# Import the LexRank summarizer\n",
    "from sumy.summarizers.lex_rank import LexRankSummarizer"
   ],
   "outputs": [],
   "metadata": {}
  },
  {
   "cell_type": "code",
   "execution_count": 3,
   "source": [
    "test_data = \"valid_data.json\"\n",
    "\n",
    "def generate_dataframe(file=test_data):\n",
    "    df = pd.read_json(file)\n",
    "    return df\n",
    "\n",
    "# Generate test dataframe\n",
    "test_df  = generate_dataframe(file=test_data)"
   ],
   "outputs": [],
   "metadata": {}
  },
  {
   "cell_type": "markdown",
   "source": [
    "# LexRank"
   ],
   "metadata": {}
  },
  {
   "cell_type": "code",
   "execution_count": 4,
   "source": [
    "predicted = []\n",
    "for i in tqdm(range(len(test_df))):\n",
    "  argument = test_df['argument'][i]\n",
    "  try:  \n",
    "    parse_argument = PlaintextParser.from_string(argument,Tokenizer('english'))\n",
    "    summarizer = LexRankSummarizer()\n",
    "    summary  = summarizer(parse_argument.document, sentences_count=1)\n",
    "    for sentence in summary:\n",
    "      summary_generated = str(sentence)\n",
    "  except:\n",
    "    # If there is some exception, keep the original text\n",
    "    summary_generated = argument\n",
    "  if not summary_generated:\n",
    "    # If the summarizer fails to create a conclusion, keep the original text\n",
    "      predicted.insert(i, argument)\n",
    "  else:\n",
    "      predicted.insert(i, summary_generated)\n",
    "test_df['predicted'] = predicted"
   ],
   "outputs": [
    {
     "output_type": "stream",
     "name": "stderr",
     "text": [
      "100%|██████████| 2500/2500 [00:25<00:00, 97.99it/s]\n"
     ]
    }
   ],
   "metadata": {}
  },
  {
   "cell_type": "markdown",
   "source": [
    "### Write in file"
   ],
   "metadata": {}
  },
  {
   "cell_type": "code",
   "execution_count": 5,
   "source": [
    "def write(result_data):\n",
    "  df = test_df[[\"id\",\"predicted\"]]\n",
    "  result_list = {row[\"id\"]:row[\"predicted\"] for index, row in df.iterrows()}\n",
    "  json_object = json.dumps(result_list, indent = 4)\n",
    "    \n",
    "  # Writing to sample.json\n",
    "  with open(result_data, \"w\") as outfile:\n",
    "      outfile.write(json_object)"
   ],
   "outputs": [],
   "metadata": {}
  },
  {
   "cell_type": "code",
   "execution_count": 6,
   "source": [
    "result_data_lex = \"test_result.json\" \n",
    "write(result_data_lex)"
   ],
   "outputs": [],
   "metadata": {}
  }
 ],
 "metadata": {
  "kernelspec": {
   "display_name": "Python 3",
   "language": "python",
   "name": "python3"
  },
  "language_info": {
   "codemirror_mode": {
    "name": "ipython",
    "version": 3
   },
   "file_extension": ".py",
   "mimetype": "text/x-python",
   "name": "python",
   "nbconvert_exporter": "python",
   "pygments_lexer": "ipython3",
   "version": "3.8.3"
  }
 },
 "nbformat": 4,
 "nbformat_minor": 5
}