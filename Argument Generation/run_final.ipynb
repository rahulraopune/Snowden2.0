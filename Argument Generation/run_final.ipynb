{
 "cells": [
  {
   "cell_type": "markdown",
   "id": "4ddc89b6",
   "metadata": {},
   "source": [
    "# Imports and common methods"
   ]
  },
  {
   "cell_type": "code",
   "execution_count": 1,
   "id": "4db75a88",
   "metadata": {},
   "outputs": [
    {
     "name": "stderr",
     "output_type": "stream",
     "text": [
      "ERROR: Invalid requirement: '#'\n",
      "WARNING: You are using pip version 21.1.1; however, version 21.1.3 is available.\n",
      "You should consider upgrading via the 'c:\\users\\shivam sharma\\appdata\\local\\programs\\python\\python38\\python.exe -m pip install --upgrade pip' command.\n"
     ]
    }
   ],
   "source": [
    "import pandas as pd\n",
    "from tqdm import tqdm\n",
    "import json\n",
    "\n",
    "# Installing and Importing sumy\n",
    "!pip install sumy # Comment this line after running it once\n",
    "import sumy\n",
    "\n",
    "# Importing the parser and tokenizer\n",
    "from sumy.parsers.plaintext import PlaintextParser\n",
    "from sumy.nlp.tokenizers import Tokenizer\n",
    "\n",
    "# Import the LexRank summarizer\n",
    "from sumy.summarizers.lex_rank import LexRankSummarizer"
   ]
  },
  {
   "cell_type": "code",
   "execution_count": 2,
   "id": "04454aa5",
   "metadata": {},
   "outputs": [],
   "source": [
    "test_data = \"valid_data.json\"\n",
    "\n",
    "def generate_dataframe(file=test_data):\n",
    "    df = pd.read_json(file)\n",
    "    return df\n",
    "\n",
    "test_df  = generate_dataframe(file=test_data)"
   ]
  },
  {
   "cell_type": "markdown",
   "id": "23ac631a",
   "metadata": {},
   "source": [
    "# LexRank"
   ]
  },
  {
   "cell_type": "code",
   "execution_count": 3,
   "id": "3306f6d5",
   "metadata": {},
   "outputs": [
    {
     "name": "stderr",
     "output_type": "stream",
     "text": [
      "100%|█████████████████████████████████████████████████████████████████████████████| 2500/2500 [00:16<00:00, 152.56it/s]\n"
     ]
    }
   ],
   "source": [
    "predicted = []\n",
    "for idx in tqdm(range(len(test_df))):\n",
    "  argument = test_df['argument'][idx]\n",
    "  try:  \n",
    "    my_parser = PlaintextParser.from_string(argument,Tokenizer('english'))\n",
    "    lex_rank_summarizer = LexRankSummarizer()\n",
    "    lexrank_summary  = lex_rank_summarizer(my_parser.document, sentences_count=1)\n",
    "    for sentence in lexrank_summary:\n",
    "      text = str(sentence)\n",
    "  except:\n",
    "    text = argument\n",
    "  if not text:\n",
    "      predicted.insert(idx, argument)\n",
    "  else:\n",
    "      predicted.insert(idx, text)\n",
    "test_df['predicted'] = predicted"
   ]
  },
  {
   "cell_type": "markdown",
   "id": "6fd33407",
   "metadata": {},
   "source": [
    "### Write in file"
   ]
  },
  {
   "cell_type": "code",
   "execution_count": 4,
   "id": "623c274a",
   "metadata": {},
   "outputs": [],
   "source": [
    "def write(result_data):\n",
    "  df = test_df[[\"id\",\"predicted\"]]\n",
    "  result_list = {row[\"id\"]:row[\"predicted\"] for index, row in df.iterrows()}\n",
    "  json_object = json.dumps(result_list, indent = 4)\n",
    "    \n",
    "  # Writing to sample.json\n",
    "  with open(result_data, \"w\") as outfile:\n",
    "      outfile.write(json_object)"
   ]
  },
  {
   "cell_type": "code",
   "execution_count": 5,
   "id": "d5fa77f5",
   "metadata": {},
   "outputs": [],
   "source": [
    "result_data_lex = \"test_result.json\" \n",
    "write(result_data_lex)"
   ]
  }
 ],
 "metadata": {
  "kernelspec": {
   "display_name": "Python 3",
   "language": "python",
   "name": "python3"
  },
  "language_info": {
   "codemirror_mode": {
    "name": "ipython",
    "version": 3
   },
   "file_extension": ".py",
   "mimetype": "text/x-python",
   "name": "python",
   "nbconvert_exporter": "python",
   "pygments_lexer": "ipython3",
   "version": "3.8.3"
  }
 },
 "nbformat": 4,
 "nbformat_minor": 5
}
